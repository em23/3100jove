{
 "cells": [
  {
   "cell_type": "code",
   "execution_count": 1,
   "metadata": {},
   "outputs": [
    {
     "name": "stdout",
     "output_type": "stream",
     "text": [
      "You may use any of these help commands:\n",
      "help(lphi)\n",
      "help(lunit)\n",
      "help(lcat)\n",
      "help(lexp)\n",
      "help(lunion)\n",
      "help(lstar)\n",
      "help(srev)\n",
      "help(lrev)\n",
      "help(shomo)\n",
      "help(lhomo)\n",
      "help(powset)\n",
      "help(lint)\n",
      "help(lsymdiff)\n",
      "help(lminus)\n",
      "help(lissubset)\n",
      "help(lissuperset)\n",
      "help(lcomplem)\n",
      "help(product)\n",
      "help(nthnumeric)\n",
      "\n"
     ]
    }
   ],
   "source": [
    "from jove.LangDef import *"
   ]
  },
  {
   "cell_type": "code",
   "execution_count": 4,
   "metadata": {},
   "outputs": [
    {
     "data": {
      "text/plain": [
       "['',\n",
       " 'a',\n",
       " 'b',\n",
       " 'aa',\n",
       " 'ab',\n",
       " 'bb',\n",
       " 'ba',\n",
       " 'bab',\n",
       " 'baa',\n",
       " 'bba',\n",
       " 'abb',\n",
       " 'aba',\n",
       " 'aaa',\n",
       " 'bbb',\n",
       " 'aab',\n",
       " 'bbaa',\n",
       " 'aaab',\n",
       " 'bbab',\n",
       " 'aaba',\n",
       " 'baaa',\n",
       " 'babb',\n",
       " 'aabb',\n",
       " 'bbbb',\n",
       " 'abbb',\n",
       " 'bbba',\n",
       " 'abab',\n",
       " 'abaa',\n",
       " 'abba',\n",
       " 'baba',\n",
       " 'baab',\n",
       " 'aaaa',\n",
       " 'bbbba',\n",
       " 'abbab',\n",
       " 'babaa',\n",
       " 'abaab',\n",
       " 'bbbaa',\n",
       " 'baabb',\n",
       " 'baaaa',\n",
       " 'aabba',\n",
       " 'aabbb',\n",
       " 'bbbab',\n",
       " 'bbaab',\n",
       " 'bbbbb',\n",
       " 'abbbb',\n",
       " 'bbabb',\n",
       " 'babbb',\n",
       " 'aaabb',\n",
       " 'bbaba',\n",
       " 'bbaaa',\n",
       " 'aaaba',\n",
       " 'ababa',\n",
       " 'aaaaa',\n",
       " 'abbba',\n",
       " 'aaaab',\n",
       " 'ababb',\n",
       " 'babab',\n",
       " 'abaaa',\n",
       " 'abbaa',\n",
       " 'babba',\n",
       " 'aabaa',\n",
       " 'aabab',\n",
       " 'baaba',\n",
       " 'baaab']"
      ]
     },
     "execution_count": 4,
     "metadata": {},
     "output_type": "execute_result"
    }
   ],
   "source": [
    "sorted(lstar({'a','b'}, 5), key= lambda x: len(x))"
   ]
  }
 ],
 "metadata": {
  "kernelspec": {
   "display_name": "Python 3",
   "language": "python",
   "name": "python3"
  },
  "language_info": {
   "codemirror_mode": {
    "name": "ipython",
    "version": 3
   },
   "file_extension": ".py",
   "mimetype": "text/x-python",
   "name": "python",
   "nbconvert_exporter": "python",
   "pygments_lexer": "ipython3",
   "version": "3.6.1"
  }
 },
 "nbformat": 4,
 "nbformat_minor": 2
}
