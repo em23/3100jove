{
 "cells": [
  {
   "cell_type": "code",
   "execution_count": 6,
   "metadata": {
    "collapsed": true
   },
   "outputs": [
    {
     "name": "stdout",
     "output_type": "stream",
     "text": [
      "You may use any of these help commands:\n",
      "help(lphi)\n",
      "help(lunit)\n",
      "help(lcat)\n",
      "help(lexp)\n",
      "help(lunion)\n",
      "help(lstar)\n",
      "help(srev)\n",
      "help(lrev)\n",
      "help(shomo)\n",
      "help(lhomo)\n",
      "help(powset)\n",
      "help(lint)\n",
      "help(lsymdiff)\n",
      "help(lminus)\n",
      "help(lissubset)\n",
      "help(lissuperset)\n",
      "help(lcomplem)\n",
      "help(product)\n",
      "help(nthnumeric)\n",
      "\n"
     ]
    }
   ],
   "source": [
    "from jove.LangDef import *"
   ]
  },
  {
   "cell_type": "code",
   "execution_count": null,
   "metadata": {},
   "outputs": [],
   "source": [
    "sorted(lstar({'a','b','c'}, 3), key= lambda x: len(x))"
   ]
  }
 ],
 "metadata": {
  "kernelspec": {
   "display_name": "Python 3",
   "language": "python",
   "name": "python3"
  },
  "language_info": {
   "codemirror_mode": {
    "name": "ipython",
    "version": 3
   },
   "file_extension": ".py",
   "mimetype": "text/x-python",
   "name": "python",
   "nbconvert_exporter": "python",
   "pygments_lexer": "ipython3",
   "version": "3.6.1"
  }
 },
 "nbformat": 4,
 "nbformat_minor": 2
}
