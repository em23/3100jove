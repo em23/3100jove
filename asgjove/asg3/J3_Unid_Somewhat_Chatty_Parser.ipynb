{
 "cells": [
  {
   "cell_type": "markdown",
   "metadata": {
    "run_control": {
     "frozen": false,
     "read_only": false
    }
   },
   "source": [
    "# Asg-3\n",
    "\n",
    "\n",
    "* Make RE2NFA chatty\n",
    "\n",
    "  - ergo learn how compilers work\n",
    "  \n",
    "* Make md2mc chatty\n",
    "  \n",
    "  - ergo learn how compilers work\n",
    "  \n",
    "* I've made two files above somewhat chatty\n",
    "  \n",
    "  - Make them chattier + produce more info!\n",
    "  \n",
    "* Build your own calculator (appears in J3_Unid_Calculator.ipynb)\n",
    "\n",
    "  - further seal knowledge of lexers (RE based) and parsers (CFG based) in your minds\n",
    "  \n",
    "## YOUR TASKS\n",
    "\n",
    "Your tasks will be denoted by \"---> YOUR TASK n <---\" below"
   ]
  },
  {
   "cell_type": "code",
   "execution_count": 1,
   "metadata": {
    "run_control": {
     "frozen": false,
     "read_only": false
    }
   },
   "outputs": [
    {
     "name": "stdout",
     "output_type": "stream",
     "text": [
      "You may use any of these help commands:\n",
      "help(ResetStNum)\n",
      "help(NxtStateStr)\n",
      "\n",
      "You may use any of these help commands:\n",
      "help(md2mc)\n",
      ".. and if you want to dig more, then ..\n",
      "help(default_line_attr)\n",
      "help(length_ok_input_items)\n",
      "help(union_line_attr_list_fld)\n",
      "help(extend_rsltdict)\n",
      "help(form_delta)\n",
      "help(get_machine_components)\n",
      "\n",
      "You may use any of these help commands:\n",
      "help(mkp_dfa)\n",
      "help(mk_dfa)\n",
      "help(totalize_dfa)\n",
      "help(addtosigma_delta)\n",
      "help(step_dfa)\n",
      "help(run_dfa)\n",
      "help(accepts_dfa)\n",
      "help(comp_dfa)\n",
      "help(union_dfa)\n",
      "help(intersect_dfa)\n",
      "help(pruneUnreach)\n",
      "help(iso_dfa)\n",
      "help(langeq_dfa)\n",
      "help(same_status)\n",
      "help(h_langeq_dfa)\n",
      "help(fixptDist)\n",
      "help(min_dfa)\n",
      "help(pairFR)\n",
      "help(state_combos)\n",
      "help(sepFinNonFin)\n",
      "help(bash_eql_classes)\n",
      "help(listminus)\n",
      "help(bash_1)\n",
      "help(mk_rep_eqc)\n",
      "help(F_of)\n",
      "help(rep_of_s)\n",
      "help(q0_of)\n",
      "help(Delta_of)\n",
      "help(mk_state_eqc_name)\n",
      "\n",
      "You may use any of these help commands:\n",
      "help(mk_nfa)\n",
      "help(totalize_nfa)\n",
      "help(step_nfa)\n",
      "help(run_nfa)\n",
      "help(ec_step_nfa)\n",
      "help(Eclosure)\n",
      "help(Echelp)\n",
      "help(accepts_nfa)\n",
      "help(nfa2dfa)\n",
      "help(n2d)\n",
      "help(inSets)\n",
      "help(rev_dfa)\n",
      "help(min_dfa_brz)\n",
      "\n",
      "You may use any of these help commands:\n",
      "help(re2nfa)\n",
      "\n"
     ]
    }
   ],
   "source": [
    "from jove.DotBashers import *\n",
    "from jove.Def_md2mc_chatty import *     # Change this to the _chatty file\n",
    "from jove.Def_DFA   import *\n",
    "from jove.LangDef   import *\n",
    "from jove.Def_RE2NFA_chatty   import *  # Change this to the _chatty file\n",
    "from jove.Def_NFA   import *"
   ]
  },
  {
   "cell_type": "markdown",
   "metadata": {
    "run_control": {
     "frozen": false,
     "read_only": false
    }
   },
   "source": [
    "# Make RE2NFA and md2mc chatty\n",
    "\n",
    "* Copy Def_RE2NFA.py into Def_RE2NFA_chatty.py and Def_md2mc.py into Def_md2mc_chatty.py\n",
    "\n",
    "* Edit the \"_chatty.py\" files to tell user when\n",
    "\n",
    "  - a token is being picked up\n",
    "  \n",
    "  - when a CFG rule is getting finished\n",
    "  \n",
    "* Examples are provided to the student\n",
    "\n",
    "  - THEIR TASK: Finish making these routines as chatty and informative as they can!\n",
    "  \n",
    "  - Their printout should not be a mess; rather:\n",
    "  \n",
    "     * It must include extra info regarding the token obtained\n",
    "     \n",
    "     * Then can increase the indentation level based on the level at which a rule is parsed (if possible)"
   ]
  },
  {
   "cell_type": "code",
   "execution_count": 2,
   "metadata": {
    "run_control": {
     "frozen": false,
     "read_only": false
    }
   },
   "outputs": [
    {
     "name": "stdout",
     "output_type": "stream",
     "text": [
      "Ordinary expressions returned string\n",
      "Got a ordinary expression\n",
      "Got a concatenation expression\n",
      "Ordinary expressions returned string\n",
      "Got a ordinary expression\n",
      "Got a plus token\n",
      "Given the parse of two NFA, making one PLUS-connected NFA\n"
     ]
    },
    {
     "name": "stderr",
     "output_type": "stream",
     "text": [
      "Generating LALR tables\n"
     ]
    },
    {
     "data": {
      "text/plain": [
       "{'Delta': {('St1', 'a'): {'St2'}, ('St3', 'b'): {'St4'}},\n",
       " 'F': {'St2', 'St4'},\n",
       " 'Q': {'St1', 'St2', 'St3', 'St4'},\n",
       " 'Q0': {'St1', 'St3'},\n",
       " 'Sigma': {'a', 'b'}}"
      ]
     },
     "execution_count": 2,
     "metadata": {},
     "output_type": "execute_result"
    }
   ],
   "source": [
    "re2nfa(\"a+b\")"
   ]
  },
  {
   "cell_type": "markdown",
   "metadata": {
    "run_control": {
     "frozen": false,
     "read_only": false
    }
   },
   "source": [
    "## This is the main design the students will work on!!\n",
    "\n",
    " ---> YOUR TASK 1 is below <---"
   ]
  },
  {
   "cell_type": "code",
   "execution_count": 3,
   "metadata": {
    "run_control": {
     "frozen": false,
     "read_only": false
    }
   },
   "outputs": [
    {
     "name": "stdout",
     "output_type": "stream",
     "text": [
      " Custom-made lexer for markdown starting to strip comments starting with !!\n",
      " Got a new line \n",
      "Got a Jove markdown comment\n",
      " Got a new line \n",
      "Got a Jove markdown comment\n",
      " Got a new line \n",
      "Got a Jove markdown comment\n",
      " Got a new line \n",
      "Got a Jove markdown comment\n",
      " Got a new line \n",
      "Got a Jove markdown comment\n",
      " Got a new line \n",
      "Got a Jove markdown comment\n",
      " Got a new line \n",
      " Got a new line \n",
      "Got one label which is an ID:  0\n",
      "Got a Jove markdown comment\n",
      " Got a new line \n",
      " Got a new line \n",
      "Parsed one line of Jove MD code, involving tokens COLON and ARROWS and other things in an MD line\n",
      "Got one label which is an ID:  0\n",
      " Got a new line \n",
      "Parsed one line of Jove MD code, involving tokens COLON and ARROWS and other things in an MD line\n",
      "Parsed DFA keyword\n",
      "Machine type is DFA\n"
     ]
    }
   ],
   "source": [
    "Db01XORe01 = md2mc('''\n",
    "!! \n",
    "!!- The overall algorithm is to case-analyze on whether we began with a 01 or not.\n",
    "!!- Please see the state names assigned. Once you understand how the state names were designed,\n",
    "!!- the transitions should make sense.  \n",
    "!!\n",
    "DFA                     !! This DFA chooses meaningful state names and records the last bit seen\n",
    " \n",
    "I    :   0   -> S_0     !! No acceptance upon seeing a 0; record in state name S0\n",
    " \n",
    "FMNE_1 : 0 -> FMNE_0\n",
    "''')"
   ]
  },
  {
   "cell_type": "markdown",
   "metadata": {
    "collapsed": true,
    "run_control": {
     "frozen": false,
     "read_only": false
    }
   },
   "source": [
    "Assigment 3 Part C"
   ]
  },
  {
   "cell_type": "code",
   "execution_count": 4,
   "metadata": {},
   "outputs": [
    {
     "name": "stderr",
     "output_type": "stream",
     "text": [
      "Generating LALR tables\n"
     ]
    },
    {
     "name": "stdout",
     "output_type": "stream",
     "text": [
      "Ordinary expressions returned string\n",
      "Got a ordinary expression starred\n",
      "Got a ordinary expression\n",
      "Got a concatenation expression\n",
      "Ordinary expressions returned  epsilon\n",
      "Got a ordinary expression starred\n",
      "Got a ordinary expression\n",
      "Got a plus token\n",
      "Given the parse of two NFA, making one PLUS-connected NFA\n",
      "Setting an expression within parentheses\n",
      "Got a ordinary expression starred\n",
      "Got a ordinary expression\n",
      "Got a concatenation expression\n"
     ]
    },
    {
     "data": {
      "image/svg+xml": [
       "<?xml version=\"1.0\" encoding=\"UTF-8\" standalone=\"no\"?>\r\n",
       "<!DOCTYPE svg PUBLIC \"-//W3C//DTD SVG 1.1//EN\"\r\n",
       " \"http://www.w3.org/Graphics/SVG/1.1/DTD/svg11.dtd\">\r\n",
       "<!-- Generated by graphviz version 2.38.0 (20140413.2041)\r\n",
       " -->\r\n",
       "<!-- Title: %3 Pages: 1 -->\r\n",
       "<svg width=\"418pt\" height=\"185pt\"\r\n",
       " viewBox=\"0.00 0.00 417.98 185.50\" xmlns=\"http://www.w3.org/2000/svg\" xmlns:xlink=\"http://www.w3.org/1999/xlink\">\r\n",
       "<g id=\"graph0\" class=\"graph\" transform=\"scale(1 1) rotate(0) translate(4 181.496)\">\r\n",
       "<title>%3</title>\r\n",
       "<polygon fill=\"white\" stroke=\"none\" points=\"-4,4 -4,-181.496 413.984,-181.496 413.984,4 -4,4\"/>\r\n",
       "<!-- EMPTY -->\r\n",
       "<g id=\"node1\" class=\"node\"><title>EMPTY</title>\r\n",
       "</g>\r\n",
       "<!-- St6 -->\r\n",
       "<g id=\"node7\" class=\"node\"><title>St6</title>\r\n",
       "<ellipse fill=\"none\" stroke=\"black\" cx=\"117.748\" cy=\"-66.748\" rx=\"22.9609\" ry=\"22.9609\"/>\r\n",
       "<ellipse fill=\"none\" stroke=\"black\" cx=\"117.748\" cy=\"-66.748\" rx=\"26.9983\" ry=\"26.9983\"/>\r\n",
       "<text text-anchor=\"middle\" x=\"117.748\" y=\"-63.048\" font-family=\"Times New Roman,serif\" font-size=\"14.00\">St6</text>\r\n",
       "</g>\r\n",
       "<!-- EMPTY&#45;&gt;St6 -->\r\n",
       "<g id=\"edge1\" class=\"edge\"><title>EMPTY&#45;&gt;St6</title>\r\n",
       "<path fill=\"none\" stroke=\"black\" d=\"M54.1473,-66.748C62.4527,-66.748 71.7892,-66.748 80.6665,-66.748\"/>\r\n",
       "<polygon fill=\"black\" stroke=\"black\" points=\"80.7876,-70.2481 90.7876,-66.748 80.7875,-63.2481 80.7876,-70.2481\"/>\r\n",
       "</g>\r\n",
       "<!-- St4 -->\r\n",
       "<g id=\"node2\" class=\"node\"><title>St4</title>\r\n",
       "<ellipse fill=\"none\" stroke=\"black\" cx=\"298.74\" cy=\"-29.748\" rx=\"22.9987\" ry=\"22.9987\"/>\r\n",
       "<text text-anchor=\"middle\" x=\"298.74\" y=\"-26.048\" font-family=\"Times New Roman,serif\" font-size=\"14.00\">St4</text>\r\n",
       "</g>\r\n",
       "<!-- St5 -->\r\n",
       "<g id=\"node5\" class=\"node\"><title>St5</title>\r\n",
       "<ellipse fill=\"none\" stroke=\"black\" cx=\"210.244\" cy=\"-22.748\" rx=\"22.9987\" ry=\"22.9987\"/>\r\n",
       "<text text-anchor=\"middle\" x=\"210.244\" y=\"-19.048\" font-family=\"Times New Roman,serif\" font-size=\"14.00\">St5</text>\r\n",
       "</g>\r\n",
       "<!-- St4&#45;&gt;St5 -->\r\n",
       "<g id=\"edge10\" class=\"edge\"><title>St4&#45;&gt;St5</title>\r\n",
       "<path fill=\"none\" stroke=\"black\" d=\"M277.463,-21.1221C271.322,-18.9174 264.482,-16.8576 257.992,-15.748 252.997,-14.894 247.692,-14.8593 242.517,-15.2983\"/>\r\n",
       "<polygon fill=\"black\" stroke=\"black\" points=\"241.629,-11.8889 232.217,-16.754 242.609,-18.82 241.629,-11.8889\"/>\r\n",
       "<text text-anchor=\"middle\" x=\"254.492\" y=\"-19.548\" font-family=\"Times New Roman,serif\" font-size=\"14.00\">&#39;&#39;</text>\r\n",
       "</g>\r\n",
       "<!-- St3 -->\r\n",
       "<g id=\"node3\" class=\"node\"><title>St3</title>\r\n",
       "<ellipse fill=\"none\" stroke=\"black\" cx=\"210.244\" cy=\"-102.748\" rx=\"22.9987\" ry=\"22.9987\"/>\r\n",
       "<text text-anchor=\"middle\" x=\"210.244\" y=\"-99.048\" font-family=\"Times New Roman,serif\" font-size=\"14.00\">St3</text>\r\n",
       "</g>\r\n",
       "<!-- St1 -->\r\n",
       "<g id=\"node6\" class=\"node\"><title>St1</title>\r\n",
       "<ellipse fill=\"none\" stroke=\"black\" cx=\"298.74\" cy=\"-154.748\" rx=\"22.9987\" ry=\"22.9987\"/>\r\n",
       "<text text-anchor=\"middle\" x=\"298.74\" y=\"-151.048\" font-family=\"Times New Roman,serif\" font-size=\"14.00\">St1</text>\r\n",
       "</g>\r\n",
       "<!-- St3&#45;&gt;St1 -->\r\n",
       "<g id=\"edge5\" class=\"edge\"><title>St3&#45;&gt;St1</title>\r\n",
       "<path fill=\"none\" stroke=\"black\" d=\"M230.012,-114.031C241.72,-121.069 256.995,-130.253 270.076,-138.117\"/>\r\n",
       "<polygon fill=\"black\" stroke=\"black\" points=\"268.336,-141.154 278.71,-143.307 271.942,-135.155 268.336,-141.154\"/>\r\n",
       "<text text-anchor=\"middle\" x=\"254.492\" y=\"-133.548\" font-family=\"Times New Roman,serif\" font-size=\"14.00\">&#39;&#39;</text>\r\n",
       "</g>\r\n",
       "<!-- St3&#45;&gt;St6 -->\r\n",
       "<g id=\"edge4\" class=\"edge\"><title>St3&#45;&gt;St6</title>\r\n",
       "<path fill=\"none\" stroke=\"black\" d=\"M189.72,-92.14C183.37,-88.9028 176.224,-85.4805 169.496,-82.748 164.361,-80.6622 158.845,-78.6753 153.409,-76.8554\"/>\r\n",
       "<polygon fill=\"black\" stroke=\"black\" points=\"154.401,-73.4981 143.81,-73.7747 152.262,-80.1633 154.401,-73.4981\"/>\r\n",
       "<text text-anchor=\"middle\" x=\"165.996\" y=\"-86.548\" font-family=\"Times New Roman,serif\" font-size=\"14.00\">&#39;&#39;</text>\r\n",
       "</g>\r\n",
       "<!-- St2 -->\r\n",
       "<g id=\"node4\" class=\"node\"><title>St2</title>\r\n",
       "<ellipse fill=\"none\" stroke=\"black\" cx=\"387.236\" cy=\"-120.748\" rx=\"22.9987\" ry=\"22.9987\"/>\r\n",
       "<text text-anchor=\"middle\" x=\"387.236\" y=\"-117.048\" font-family=\"Times New Roman,serif\" font-size=\"14.00\">St2</text>\r\n",
       "</g>\r\n",
       "<!-- St2&#45;&gt;St3 -->\r\n",
       "<g id=\"edge7\" class=\"edge\"><title>St2&#45;&gt;St3</title>\r\n",
       "<path fill=\"none\" stroke=\"black\" d=\"M364.787,-115.585C352.242,-112.78 336.055,-109.53 321.488,-107.748 295.339,-104.549 265.476,-103.344 243.432,-102.914\"/>\r\n",
       "<polygon fill=\"black\" stroke=\"black\" points=\"243.341,-99.4121 233.289,-102.76 243.235,-106.411 243.341,-99.4121\"/>\r\n",
       "<text text-anchor=\"middle\" x=\"298.74\" y=\"-111.548\" font-family=\"Times New Roman,serif\" font-size=\"14.00\">&#39;&#39;</text>\r\n",
       "</g>\r\n",
       "<!-- St5&#45;&gt;St4 -->\r\n",
       "<g id=\"edge9\" class=\"edge\"><title>St5&#45;&gt;St4</title>\r\n",
       "<path fill=\"none\" stroke=\"black\" d=\"M232.023,-30.2718C238.059,-32.1138 244.717,-33.8214 250.992,-34.748 255.882,-35.4701 261.075,-35.5707 266.153,-35.3034\"/>\r\n",
       "<polygon fill=\"black\" stroke=\"black\" points=\"266.669,-38.7699 276.284,-34.3195 265.992,-31.8027 266.669,-38.7699\"/>\r\n",
       "<text text-anchor=\"middle\" x=\"254.492\" y=\"-39.548\" font-family=\"Times New Roman,serif\" font-size=\"14.00\">&#39;&#39;</text>\r\n",
       "</g>\r\n",
       "<!-- St5&#45;&gt;St6 -->\r\n",
       "<g id=\"edge8\" class=\"edge\"><title>St5&#45;&gt;St6</title>\r\n",
       "<path fill=\"none\" stroke=\"black\" d=\"M187.6,-19.9174C179.449,-19.6873 170.275,-20.4674 162.496,-23.748 154.768,-27.0068 147.655,-32.3297 141.51,-38.1384\"/>\r\n",
       "<polygon fill=\"black\" stroke=\"black\" points=\"138.698,-36.012 134.27,-45.6371 143.734,-40.8742 138.698,-36.012\"/>\r\n",
       "<text text-anchor=\"middle\" x=\"165.996\" y=\"-27.548\" font-family=\"Times New Roman,serif\" font-size=\"14.00\">&#39;&#39;</text>\r\n",
       "</g>\r\n",
       "<!-- St1&#45;&gt;St2 -->\r\n",
       "<g id=\"edge6\" class=\"edge\"><title>St1&#45;&gt;St2</title>\r\n",
       "<path fill=\"none\" stroke=\"black\" d=\"M320.238,-146.69C331.01,-142.456 344.415,-137.187 356.323,-132.506\"/>\r\n",
       "<polygon fill=\"black\" stroke=\"black\" points=\"357.858,-135.663 365.885,-128.748 355.297,-129.149 357.858,-135.663\"/>\r\n",
       "<text text-anchor=\"middle\" x=\"342.988\" y=\"-142.548\" font-family=\"Times New Roman,serif\" font-size=\"14.00\">a</text>\r\n",
       "</g>\r\n",
       "<!-- St6&#45;&gt;St3 -->\r\n",
       "<g id=\"edge2\" class=\"edge\"><title>St6&#45;&gt;St3</title>\r\n",
       "<path fill=\"none\" stroke=\"black\" d=\"M137.07,-85.8329C144.33,-92.1202 153.17,-98.364 162.496,-101.748 167.117,-103.425 172.169,-104.364 177.188,-104.821\"/>\r\n",
       "<polygon fill=\"black\" stroke=\"black\" points=\"177.183,-108.323 187.296,-105.164 177.421,-101.327 177.183,-108.323\"/>\r\n",
       "<text text-anchor=\"middle\" x=\"165.996\" y=\"-108.548\" font-family=\"Times New Roman,serif\" font-size=\"14.00\">&#39;&#39;</text>\r\n",
       "</g>\r\n",
       "<!-- St6&#45;&gt;St5 -->\r\n",
       "<g id=\"edge3\" class=\"edge\"><title>St6&#45;&gt;St5</title>\r\n",
       "<path fill=\"none\" stroke=\"black\" d=\"M142.053,-55.4169C153.738,-49.7355 167.999,-42.8017 180.372,-36.7859\"/>\r\n",
       "<polygon fill=\"black\" stroke=\"black\" points=\"181.928,-39.9209 189.391,-32.4006 178.867,-33.6256 181.928,-39.9209\"/>\r\n",
       "<text text-anchor=\"middle\" x=\"165.996\" y=\"-48.548\" font-family=\"Times New Roman,serif\" font-size=\"14.00\">&#39;&#39;</text>\r\n",
       "</g>\r\n",
       "</g>\r\n",
       "</svg>\r\n"
      ],
      "text/plain": [
       "<graphviz.dot.Digraph at 0x21e4a613908>"
      ]
     },
     "execution_count": 4,
     "metadata": {},
     "output_type": "execute_result"
    }
   ],
   "source": [
    "dotObj_nfa(re2nfa(\"(a*+''*)*\"))"
   ]
  },
  {
   "cell_type": "markdown",
   "metadata": {},
   "source": [
    "* We can see that rules such as getting an ordinary expression, returning an epsilon from an ordinary expression, returning string, etc, are being applied"
   ]
  },
  {
   "cell_type": "code",
   "execution_count": 5,
   "metadata": {},
   "outputs": [
    {
     "name": "stderr",
     "output_type": "stream",
     "text": [
      "Generating LALR tables\n"
     ]
    },
    {
     "name": "stdout",
     "output_type": "stream",
     "text": [
      "Ordinary expressions returned  epsilon\n",
      "Got a ordinary expression\n",
      "Got a concatenation expression\n"
     ]
    },
    {
     "data": {
      "image/svg+xml": [
       "<?xml version=\"1.0\" encoding=\"UTF-8\" standalone=\"no\"?>\r\n",
       "<!DOCTYPE svg PUBLIC \"-//W3C//DTD SVG 1.1//EN\"\r\n",
       " \"http://www.w3.org/Graphics/SVG/1.1/DTD/svg11.dtd\">\r\n",
       "<!-- Generated by graphviz version 2.38.0 (20140413.2041)\r\n",
       " -->\r\n",
       "<!-- Title: %3 Pages: 1 -->\r\n",
       "<svg width=\"151pt\" height=\"61pt\"\r\n",
       " viewBox=\"0.00 0.00 151.50 61.50\" xmlns=\"http://www.w3.org/2000/svg\" xmlns:xlink=\"http://www.w3.org/1999/xlink\">\r\n",
       "<g id=\"graph0\" class=\"graph\" transform=\"scale(1 1) rotate(0) translate(4 57.496)\">\r\n",
       "<title>%3</title>\r\n",
       "<polygon fill=\"white\" stroke=\"none\" points=\"-4,4 -4,-57.496 147.496,-57.496 147.496,4 -4,4\"/>\r\n",
       "<!-- EMPTY -->\r\n",
       "<g id=\"node1\" class=\"node\"><title>EMPTY</title>\r\n",
       "</g>\r\n",
       "<!-- St1 -->\r\n",
       "<g id=\"node2\" class=\"node\"><title>St1</title>\r\n",
       "<ellipse fill=\"none\" stroke=\"black\" cx=\"116.748\" cy=\"-26.748\" rx=\"22.9609\" ry=\"22.9609\"/>\r\n",
       "<ellipse fill=\"none\" stroke=\"black\" cx=\"116.748\" cy=\"-26.748\" rx=\"26.9983\" ry=\"26.9983\"/>\r\n",
       "<text text-anchor=\"middle\" x=\"116.748\" y=\"-23.048\" font-family=\"Times New Roman,serif\" font-size=\"14.00\">St1</text>\r\n",
       "</g>\r\n",
       "<!-- EMPTY&#45;&gt;St1 -->\r\n",
       "<g id=\"edge1\" class=\"edge\"><title>EMPTY&#45;&gt;St1</title>\r\n",
       "<path fill=\"none\" stroke=\"black\" d=\"M54.3273,-26.748C62.2947,-26.748 71.1865,-26.748 79.6757,-26.748\"/>\r\n",
       "<polygon fill=\"black\" stroke=\"black\" points=\"79.7417,-30.2481 89.7417,-26.748 79.7416,-23.2481 79.7417,-30.2481\"/>\r\n",
       "</g>\r\n",
       "</g>\r\n",
       "</svg>\r\n"
      ],
      "text/plain": [
       "<graphviz.dot.Digraph at 0x21e4a6220f0>"
      ]
     },
     "execution_count": 5,
     "metadata": {},
     "output_type": "execute_result"
    }
   ],
   "source": [
    "dotObj_nfa(re2nfa(\"''\"))"
   ]
  },
  {
   "cell_type": "markdown",
   "metadata": {},
   "source": [
    "* Going bottom up  we can see that these rules are being applied S->C->O->''"
   ]
  },
  {
   "cell_type": "code",
   "execution_count": 6,
   "metadata": {},
   "outputs": [
    {
     "name": "stderr",
     "output_type": "stream",
     "text": [
      "Generating LALR tables\n"
     ]
    },
    {
     "name": "stdout",
     "output_type": "stream",
     "text": [
      "Ordinary expressions returned  epsilon\n",
      "Got a ordinary expression starred\n",
      "Got a ordinary expression\n",
      "Got a concatenation expression\n"
     ]
    },
    {
     "data": {
      "image/svg+xml": [
       "<?xml version=\"1.0\" encoding=\"UTF-8\" standalone=\"no\"?>\r\n",
       "<!DOCTYPE svg PUBLIC \"-//W3C//DTD SVG 1.1//EN\"\r\n",
       " \"http://www.w3.org/Graphics/SVG/1.1/DTD/svg11.dtd\">\r\n",
       "<!-- Generated by graphviz version 2.38.0 (20140413.2041)\r\n",
       " -->\r\n",
       "<!-- Title: %3 Pages: 1 -->\r\n",
       "<svg width=\"241pt\" height=\"61pt\"\r\n",
       " viewBox=\"0.00 0.00 240.99 61.50\" xmlns=\"http://www.w3.org/2000/svg\" xmlns:xlink=\"http://www.w3.org/1999/xlink\">\r\n",
       "<g id=\"graph0\" class=\"graph\" transform=\"scale(1 1) rotate(0) translate(4 57.496)\">\r\n",
       "<title>%3</title>\r\n",
       "<polygon fill=\"white\" stroke=\"none\" points=\"-4,4 -4,-57.496 236.992,-57.496 236.992,4 -4,4\"/>\r\n",
       "<!-- EMPTY -->\r\n",
       "<g id=\"node1\" class=\"node\"><title>EMPTY</title>\r\n",
       "</g>\r\n",
       "<!-- St2 -->\r\n",
       "<g id=\"node3\" class=\"node\"><title>St2</title>\r\n",
       "<ellipse fill=\"none\" stroke=\"black\" cx=\"117.748\" cy=\"-26.748\" rx=\"22.9609\" ry=\"22.9609\"/>\r\n",
       "<ellipse fill=\"none\" stroke=\"black\" cx=\"117.748\" cy=\"-26.748\" rx=\"26.9983\" ry=\"26.9983\"/>\r\n",
       "<text text-anchor=\"middle\" x=\"117.748\" y=\"-23.048\" font-family=\"Times New Roman,serif\" font-size=\"14.00\">St2</text>\r\n",
       "</g>\r\n",
       "<!-- EMPTY&#45;&gt;St2 -->\r\n",
       "<g id=\"edge1\" class=\"edge\"><title>EMPTY&#45;&gt;St2</title>\r\n",
       "<path fill=\"none\" stroke=\"black\" d=\"M54.1473,-26.748C62.4527,-26.748 71.7892,-26.748 80.6665,-26.748\"/>\r\n",
       "<polygon fill=\"black\" stroke=\"black\" points=\"80.7876,-30.2481 90.7876,-26.748 80.7875,-23.2481 80.7876,-30.2481\"/>\r\n",
       "</g>\r\n",
       "<!-- St1 -->\r\n",
       "<g id=\"node2\" class=\"node\"><title>St1</title>\r\n",
       "<ellipse fill=\"none\" stroke=\"black\" cx=\"210.244\" cy=\"-26.748\" rx=\"22.9987\" ry=\"22.9987\"/>\r\n",
       "<text text-anchor=\"middle\" x=\"210.244\" y=\"-23.048\" font-family=\"Times New Roman,serif\" font-size=\"14.00\">St1</text>\r\n",
       "</g>\r\n",
       "<!-- St1&#45;&gt;St2 -->\r\n",
       "<g id=\"edge3\" class=\"edge\"><title>St1&#45;&gt;St2</title>\r\n",
       "<path fill=\"none\" stroke=\"black\" d=\"M190.061,-15.4616C183.729,-12.3216 176.508,-9.33768 169.496,-7.74798 163.114,-6.301 156.453,-7.04328 150.136,-8.89189\"/>\r\n",
       "<polygon fill=\"black\" stroke=\"black\" points=\"148.669,-5.706 140.583,-12.5519 151.173,-12.2427 148.669,-5.706\"/>\r\n",
       "<text text-anchor=\"middle\" x=\"165.996\" y=\"-11.548\" font-family=\"Times New Roman,serif\" font-size=\"14.00\">&#39;&#39;</text>\r\n",
       "</g>\r\n",
       "<!-- St2&#45;&gt;St1 -->\r\n",
       "<g id=\"edge2\" class=\"edge\"><title>St2&#45;&gt;St1</title>\r\n",
       "<path fill=\"none\" stroke=\"black\" d=\"M144.923,-26.748C155.024,-26.748 166.677,-26.748 177.266,-26.748\"/>\r\n",
       "<polygon fill=\"black\" stroke=\"black\" points=\"177.404,-30.2481 187.404,-26.748 177.404,-23.2481 177.404,-30.2481\"/>\r\n",
       "<text text-anchor=\"middle\" x=\"165.996\" y=\"-30.548\" font-family=\"Times New Roman,serif\" font-size=\"14.00\">&#39;&#39;</text>\r\n",
       "</g>\r\n",
       "</g>\r\n",
       "</svg>\r\n"
      ],
      "text/plain": [
       "<graphviz.dot.Digraph at 0x21e4a61fbe0>"
      ]
     },
     "execution_count": 6,
     "metadata": {},
     "output_type": "execute_result"
    }
   ],
   "source": [
    "dotObj_nfa(re2nfa(\"''*\"))"
   ]
  },
  {
   "cell_type": "markdown",
   "metadata": {},
   "source": [
    "* Going bottom up the rules applied are S->C->O\\*->''\\*"
   ]
  },
  {
   "cell_type": "code",
   "execution_count": 7,
   "metadata": {},
   "outputs": [
    {
     "name": "stderr",
     "output_type": "stream",
     "text": [
      "Generating LALR tables\n"
     ]
    },
    {
     "name": "stdout",
     "output_type": "stream",
     "text": [
      "Ordinary expressions returned string\n",
      "Got a ordinary expression starred\n",
      "Got a ordinary expression\n",
      "Got a concatenation expression\n"
     ]
    },
    {
     "data": {
      "image/svg+xml": [
       "<?xml version=\"1.0\" encoding=\"UTF-8\" standalone=\"no\"?>\r\n",
       "<!DOCTYPE svg PUBLIC \"-//W3C//DTD SVG 1.1//EN\"\r\n",
       " \"http://www.w3.org/Graphics/SVG/1.1/DTD/svg11.dtd\">\r\n",
       "<!-- Generated by graphviz version 2.38.0 (20140413.2041)\r\n",
       " -->\r\n",
       "<!-- Title: %3 Pages: 1 -->\r\n",
       "<svg width=\"329pt\" height=\"94pt\"\r\n",
       " viewBox=\"0.00 0.00 329.49 94.50\" xmlns=\"http://www.w3.org/2000/svg\" xmlns:xlink=\"http://www.w3.org/1999/xlink\">\r\n",
       "<g id=\"graph0\" class=\"graph\" transform=\"scale(1 1) rotate(0) translate(4 90.496)\">\r\n",
       "<title>%3</title>\r\n",
       "<polygon fill=\"white\" stroke=\"none\" points=\"-4,4 -4,-90.496 325.488,-90.496 325.488,4 -4,4\"/>\r\n",
       "<!-- EMPTY -->\r\n",
       "<g id=\"node1\" class=\"node\"><title>EMPTY</title>\r\n",
       "</g>\r\n",
       "<!-- St3 -->\r\n",
       "<g id=\"node4\" class=\"node\"><title>St3</title>\r\n",
       "<ellipse fill=\"none\" stroke=\"black\" cx=\"117.748\" cy=\"-59.748\" rx=\"22.9609\" ry=\"22.9609\"/>\r\n",
       "<ellipse fill=\"none\" stroke=\"black\" cx=\"117.748\" cy=\"-59.748\" rx=\"26.9983\" ry=\"26.9983\"/>\r\n",
       "<text text-anchor=\"middle\" x=\"117.748\" y=\"-56.048\" font-family=\"Times New Roman,serif\" font-size=\"14.00\">St3</text>\r\n",
       "</g>\r\n",
       "<!-- EMPTY&#45;&gt;St3 -->\r\n",
       "<g id=\"edge1\" class=\"edge\"><title>EMPTY&#45;&gt;St3</title>\r\n",
       "<path fill=\"none\" stroke=\"black\" d=\"M54.1473,-59.748C62.4527,-59.748 71.7892,-59.748 80.6665,-59.748\"/>\r\n",
       "<polygon fill=\"black\" stroke=\"black\" points=\"80.7876,-63.2481 90.7876,-59.748 80.7875,-56.2481 80.7876,-63.2481\"/>\r\n",
       "</g>\r\n",
       "<!-- St2 -->\r\n",
       "<g id=\"node2\" class=\"node\"><title>St2</title>\r\n",
       "<ellipse fill=\"none\" stroke=\"black\" cx=\"298.74\" cy=\"-59.748\" rx=\"22.9987\" ry=\"22.9987\"/>\r\n",
       "<text text-anchor=\"middle\" x=\"298.74\" y=\"-56.048\" font-family=\"Times New Roman,serif\" font-size=\"14.00\">St2</text>\r\n",
       "</g>\r\n",
       "<!-- St2&#45;&gt;St3 -->\r\n",
       "<g id=\"edge4\" class=\"edge\"><title>St2&#45;&gt;St3</title>\r\n",
       "<path fill=\"none\" stroke=\"black\" d=\"M275.879,-61.0457C270.068,-61.3366 263.794,-61.6021 257.992,-61.748 222.952,-62.629 182.941,-61.8707 154.828,-61.0473\"/>\r\n",
       "<polygon fill=\"black\" stroke=\"black\" points=\"154.775,-57.544 144.671,-60.7318 154.558,-64.5406 154.775,-57.544\"/>\r\n",
       "<text text-anchor=\"middle\" x=\"210.244\" y=\"-65.548\" font-family=\"Times New Roman,serif\" font-size=\"14.00\">&#39;&#39;</text>\r\n",
       "</g>\r\n",
       "<!-- St1 -->\r\n",
       "<g id=\"node3\" class=\"node\"><title>St1</title>\r\n",
       "<ellipse fill=\"none\" stroke=\"black\" cx=\"210.244\" cy=\"-22.748\" rx=\"22.9987\" ry=\"22.9987\"/>\r\n",
       "<text text-anchor=\"middle\" x=\"210.244\" y=\"-19.048\" font-family=\"Times New Roman,serif\" font-size=\"14.00\">St1</text>\r\n",
       "</g>\r\n",
       "<!-- St1&#45;&gt;St2 -->\r\n",
       "<g id=\"edge3\" class=\"edge\"><title>St1&#45;&gt;St2</title>\r\n",
       "<path fill=\"none\" stroke=\"black\" d=\"M231.742,-31.5165C242.622,-36.1704 256.187,-41.9731 268.184,-47.1051\"/>\r\n",
       "<polygon fill=\"black\" stroke=\"black\" points=\"266.818,-50.3274 277.389,-51.0424 269.571,-43.8915 266.818,-50.3274\"/>\r\n",
       "<text text-anchor=\"middle\" x=\"254.492\" y=\"-46.548\" font-family=\"Times New Roman,serif\" font-size=\"14.00\">a</text>\r\n",
       "</g>\r\n",
       "<!-- St3&#45;&gt;St1 -->\r\n",
       "<g id=\"edge2\" class=\"edge\"><title>St3&#45;&gt;St1</title>\r\n",
       "<path fill=\"none\" stroke=\"black\" d=\"M142.999,-49.8327C154.207,-45.2504 167.622,-39.7654 179.44,-34.9334\"/>\r\n",
       "<polygon fill=\"black\" stroke=\"black\" points=\"180.977,-38.0865 188.908,-31.0623 178.328,-31.6072 180.977,-38.0865\"/>\r\n",
       "<text text-anchor=\"middle\" x=\"165.996\" y=\"-45.548\" font-family=\"Times New Roman,serif\" font-size=\"14.00\">&#39;&#39;</text>\r\n",
       "</g>\r\n",
       "</g>\r\n",
       "</svg>\r\n"
      ],
      "text/plain": [
       "<graphviz.dot.Digraph at 0x21e4a61f4a8>"
      ]
     },
     "execution_count": 7,
     "metadata": {},
     "output_type": "execute_result"
    }
   ],
   "source": [
    "dotObj_nfa(re2nfa(\"a*\"))"
   ]
  },
  {
   "cell_type": "markdown",
   "metadata": {},
   "source": [
    "* Going bottom up the rules applied are S->C->O->O\\*->a\\*"
   ]
  },
  {
   "cell_type": "code",
   "execution_count": 8,
   "metadata": {},
   "outputs": [
    {
     "name": "stderr",
     "output_type": "stream",
     "text": [
      "Generating LALR tables\n"
     ]
    },
    {
     "name": "stdout",
     "output_type": "stream",
     "text": [
      "Ordinary expressions returned string\n",
      "Got a ordinary expression starred\n",
      "Got a ordinary expression\n",
      "Got a concatenation expression\n",
      "Ordinary expressions returned  epsilon\n",
      "Got a ordinary expression starred\n",
      "Got a ordinary expression\n",
      "Got a plus token\n",
      "Given the parse of two NFA, making one PLUS-connected NFA\n",
      "Setting an expression within parentheses\n",
      "Got a ordinary expression\n",
      "Got a concatenation expression\n"
     ]
    },
    {
     "data": {
      "image/svg+xml": [
       "<?xml version=\"1.0\" encoding=\"UTF-8\" standalone=\"no\"?>\r\n",
       "<!DOCTYPE svg PUBLIC \"-//W3C//DTD SVG 1.1//EN\"\r\n",
       " \"http://www.w3.org/Graphics/SVG/1.1/DTD/svg11.dtd\">\r\n",
       "<!-- Generated by graphviz version 2.38.0 (20140413.2041)\r\n",
       " -->\r\n",
       "<!-- Title: %3 Pages: 1 -->\r\n",
       "<svg width=\"329pt\" height=\"158pt\"\r\n",
       " viewBox=\"0.00 0.00 329.49 158.50\" xmlns=\"http://www.w3.org/2000/svg\" xmlns:xlink=\"http://www.w3.org/1999/xlink\">\r\n",
       "<g id=\"graph0\" class=\"graph\" transform=\"scale(1 1) rotate(0) translate(4 154.496)\">\r\n",
       "<title>%3</title>\r\n",
       "<polygon fill=\"white\" stroke=\"none\" points=\"-4,4 -4,-154.496 325.488,-154.496 325.488,4 -4,4\"/>\r\n",
       "<!-- EMPTY -->\r\n",
       "<g id=\"node1\" class=\"node\"><title>EMPTY</title>\r\n",
       "</g>\r\n",
       "<!-- St3 -->\r\n",
       "<g id=\"node5\" class=\"node\"><title>St3</title>\r\n",
       "<ellipse fill=\"none\" stroke=\"black\" cx=\"117.748\" cy=\"-108.748\" rx=\"22.9609\" ry=\"22.9609\"/>\r\n",
       "<ellipse fill=\"none\" stroke=\"black\" cx=\"117.748\" cy=\"-108.748\" rx=\"26.9983\" ry=\"26.9983\"/>\r\n",
       "<text text-anchor=\"middle\" x=\"117.748\" y=\"-105.048\" font-family=\"Times New Roman,serif\" font-size=\"14.00\">St3</text>\r\n",
       "</g>\r\n",
       "<!-- EMPTY&#45;&gt;St3 -->\r\n",
       "<g id=\"edge1\" class=\"edge\"><title>EMPTY&#45;&gt;St3</title>\r\n",
       "<path fill=\"none\" stroke=\"black\" d=\"M54.1473,-87.5867C63.103,-90.6141 73.2576,-94.0467 82.7426,-97.253\"/>\r\n",
       "<polygon fill=\"black\" stroke=\"black\" points=\"81.7121,-100.599 92.3064,-100.486 83.9538,-93.9677 81.7121,-100.599\"/>\r\n",
       "</g>\r\n",
       "<!-- St5 -->\r\n",
       "<g id=\"node6\" class=\"node\"><title>St5</title>\r\n",
       "<ellipse fill=\"none\" stroke=\"black\" cx=\"117.748\" cy=\"-37.748\" rx=\"22.9609\" ry=\"22.9609\"/>\r\n",
       "<ellipse fill=\"none\" stroke=\"black\" cx=\"117.748\" cy=\"-37.748\" rx=\"26.9983\" ry=\"26.9983\"/>\r\n",
       "<text text-anchor=\"middle\" x=\"117.748\" y=\"-34.048\" font-family=\"Times New Roman,serif\" font-size=\"14.00\">St5</text>\r\n",
       "</g>\r\n",
       "<!-- EMPTY&#45;&gt;St5 -->\r\n",
       "<g id=\"edge2\" class=\"edge\"><title>EMPTY&#45;&gt;St5</title>\r\n",
       "<path fill=\"none\" stroke=\"black\" d=\"M54.1473,-66.6684C63.524,-62.3365 74.215,-57.3975 84.0757,-52.842\"/>\r\n",
       "<polygon fill=\"black\" stroke=\"black\" points=\"85.5952,-55.9955 93.2054,-48.6242 82.6595,-49.6409 85.5952,-55.9955\"/>\r\n",
       "</g>\r\n",
       "<!-- St2 -->\r\n",
       "<g id=\"node2\" class=\"node\"><title>St2</title>\r\n",
       "<ellipse fill=\"none\" stroke=\"black\" cx=\"298.74\" cy=\"-127.748\" rx=\"22.9987\" ry=\"22.9987\"/>\r\n",
       "<text text-anchor=\"middle\" x=\"298.74\" y=\"-124.048\" font-family=\"Times New Roman,serif\" font-size=\"14.00\">St2</text>\r\n",
       "</g>\r\n",
       "<!-- St2&#45;&gt;St3 -->\r\n",
       "<g id=\"edge5\" class=\"edge\"><title>St2&#45;&gt;St3</title>\r\n",
       "<path fill=\"none\" stroke=\"black\" d=\"M275.879,-129.046C270.068,-129.337 263.794,-129.602 257.992,-129.748 222.234,-130.647 181.867,-123.659 153.839,-117.506\"/>\r\n",
       "<polygon fill=\"black\" stroke=\"black\" points=\"154.264,-114.013 143.737,-115.206 152.71,-120.838 154.264,-114.013\"/>\r\n",
       "<text text-anchor=\"middle\" x=\"210.244\" y=\"-132.548\" font-family=\"Times New Roman,serif\" font-size=\"14.00\">&#39;&#39;</text>\r\n",
       "</g>\r\n",
       "<!-- St4 -->\r\n",
       "<g id=\"node3\" class=\"node\"><title>St4</title>\r\n",
       "<ellipse fill=\"none\" stroke=\"black\" cx=\"210.244\" cy=\"-22.748\" rx=\"22.9987\" ry=\"22.9987\"/>\r\n",
       "<text text-anchor=\"middle\" x=\"210.244\" y=\"-19.048\" font-family=\"Times New Roman,serif\" font-size=\"14.00\">St4</text>\r\n",
       "</g>\r\n",
       "<!-- St4&#45;&gt;St5 -->\r\n",
       "<g id=\"edge7\" class=\"edge\"><title>St4&#45;&gt;St5</title>\r\n",
       "<path fill=\"none\" stroke=\"black\" d=\"M189.624,-13.0357C181.241,-10.0938 171.363,-8.23205 162.496,-10.748 157.704,-12.1077 152.922,-14.1579 148.373,-16.5329\"/>\r\n",
       "<polygon fill=\"black\" stroke=\"black\" points=\"146.31,-13.6844 139.436,-21.7468 149.837,-19.7307 146.31,-13.6844\"/>\r\n",
       "<text text-anchor=\"middle\" x=\"165.996\" y=\"-14.548\" font-family=\"Times New Roman,serif\" font-size=\"14.00\">&#39;&#39;</text>\r\n",
       "</g>\r\n",
       "<!-- St1 -->\r\n",
       "<g id=\"node4\" class=\"node\"><title>St1</title>\r\n",
       "<ellipse fill=\"none\" stroke=\"black\" cx=\"210.244\" cy=\"-90.748\" rx=\"22.9987\" ry=\"22.9987\"/>\r\n",
       "<text text-anchor=\"middle\" x=\"210.244\" y=\"-87.048\" font-family=\"Times New Roman,serif\" font-size=\"14.00\">St1</text>\r\n",
       "</g>\r\n",
       "<!-- St1&#45;&gt;St2 -->\r\n",
       "<g id=\"edge4\" class=\"edge\"><title>St1&#45;&gt;St2</title>\r\n",
       "<path fill=\"none\" stroke=\"black\" d=\"M231.742,-99.5165C242.622,-104.17 256.187,-109.973 268.184,-115.105\"/>\r\n",
       "<polygon fill=\"black\" stroke=\"black\" points=\"266.818,-118.327 277.389,-119.042 269.571,-111.891 266.818,-118.327\"/>\r\n",
       "<text text-anchor=\"middle\" x=\"254.492\" y=\"-114.548\" font-family=\"Times New Roman,serif\" font-size=\"14.00\">a</text>\r\n",
       "</g>\r\n",
       "<!-- St3&#45;&gt;St1 -->\r\n",
       "<g id=\"edge3\" class=\"edge\"><title>St3&#45;&gt;St1</title>\r\n",
       "<path fill=\"none\" stroke=\"black\" d=\"M144.438,-103.638C154.813,-101.574 166.887,-99.1729 177.782,-97.0059\"/>\r\n",
       "<polygon fill=\"black\" stroke=\"black\" points=\"178.648,-100.402 187.773,-95.0187 177.282,-93.5369 178.648,-100.402\"/>\r\n",
       "<text text-anchor=\"middle\" x=\"165.996\" y=\"-103.548\" font-family=\"Times New Roman,serif\" font-size=\"14.00\">&#39;&#39;</text>\r\n",
       "</g>\r\n",
       "<!-- St5&#45;&gt;St4 -->\r\n",
       "<g id=\"edge6\" class=\"edge\"><title>St5&#45;&gt;St4</title>\r\n",
       "<path fill=\"none\" stroke=\"black\" d=\"M144.438,-33.4897C154.813,-31.77 166.887,-29.7687 177.782,-27.9629\"/>\r\n",
       "<polygon fill=\"black\" stroke=\"black\" points=\"178.48,-31.3951 187.773,-26.3069 177.335,-24.4893 178.48,-31.3951\"/>\r\n",
       "<text text-anchor=\"middle\" x=\"165.996\" y=\"-34.548\" font-family=\"Times New Roman,serif\" font-size=\"14.00\">&#39;&#39;</text>\r\n",
       "</g>\r\n",
       "</g>\r\n",
       "</svg>\r\n"
      ],
      "text/plain": [
       "<graphviz.dot.Digraph at 0x21e4a642da0>"
      ]
     },
     "execution_count": 8,
     "metadata": {},
     "output_type": "execute_result"
    }
   ],
   "source": [
    "dotObj_nfa(re2nfa(\"(a*+''*)\"))"
   ]
  },
  {
   "cell_type": "markdown",
   "metadata": {},
   "source": [
    "* Going bottom up the rules applied are S->C->O->(E)->(E+C)->(O+C)->(E+O\\*)->(C+''\\*)->(O+''\\*)->(O\\*+''\\*)->(a\\*+''\\*)"
   ]
  },
  {
   "cell_type": "code",
   "execution_count": 9,
   "metadata": {},
   "outputs": [
    {
     "name": "stderr",
     "output_type": "stream",
     "text": [
      "Generating LALR tables\n"
     ]
    },
    {
     "name": "stdout",
     "output_type": "stream",
     "text": [
      "Ordinary expressions returned string\n",
      "Got a ordinary expression starred\n",
      "Got a ordinary expression\n",
      "Got a concatenation expression\n",
      "Ordinary expressions returned  epsilon\n",
      "Got a ordinary expression starred\n",
      "Got a ordinary expression\n",
      "Got a plus token\n",
      "Given the parse of two NFA, making one PLUS-connected NFA\n",
      "Setting an expression within parentheses\n",
      "Got a ordinary expression starred\n",
      "Got a ordinary expression\n",
      "Got a concatenation expression\n"
     ]
    },
    {
     "data": {
      "image/svg+xml": [
       "<?xml version=\"1.0\" encoding=\"UTF-8\" standalone=\"no\"?>\r\n",
       "<!DOCTYPE svg PUBLIC \"-//W3C//DTD SVG 1.1//EN\"\r\n",
       " \"http://www.w3.org/Graphics/SVG/1.1/DTD/svg11.dtd\">\r\n",
       "<!-- Generated by graphviz version 2.38.0 (20140413.2041)\r\n",
       " -->\r\n",
       "<!-- Title: %3 Pages: 1 -->\r\n",
       "<svg width=\"418pt\" height=\"185pt\"\r\n",
       " viewBox=\"0.00 0.00 417.98 185.50\" xmlns=\"http://www.w3.org/2000/svg\" xmlns:xlink=\"http://www.w3.org/1999/xlink\">\r\n",
       "<g id=\"graph0\" class=\"graph\" transform=\"scale(1 1) rotate(0) translate(4 181.496)\">\r\n",
       "<title>%3</title>\r\n",
       "<polygon fill=\"white\" stroke=\"none\" points=\"-4,4 -4,-181.496 413.984,-181.496 413.984,4 -4,4\"/>\r\n",
       "<!-- EMPTY -->\r\n",
       "<g id=\"node1\" class=\"node\"><title>EMPTY</title>\r\n",
       "</g>\r\n",
       "<!-- St6 -->\r\n",
       "<g id=\"node7\" class=\"node\"><title>St6</title>\r\n",
       "<ellipse fill=\"none\" stroke=\"black\" cx=\"117.748\" cy=\"-66.748\" rx=\"22.9609\" ry=\"22.9609\"/>\r\n",
       "<ellipse fill=\"none\" stroke=\"black\" cx=\"117.748\" cy=\"-66.748\" rx=\"26.9983\" ry=\"26.9983\"/>\r\n",
       "<text text-anchor=\"middle\" x=\"117.748\" y=\"-63.048\" font-family=\"Times New Roman,serif\" font-size=\"14.00\">St6</text>\r\n",
       "</g>\r\n",
       "<!-- EMPTY&#45;&gt;St6 -->\r\n",
       "<g id=\"edge1\" class=\"edge\"><title>EMPTY&#45;&gt;St6</title>\r\n",
       "<path fill=\"none\" stroke=\"black\" d=\"M54.1473,-66.748C62.4527,-66.748 71.7892,-66.748 80.6665,-66.748\"/>\r\n",
       "<polygon fill=\"black\" stroke=\"black\" points=\"80.7876,-70.2481 90.7876,-66.748 80.7875,-63.2481 80.7876,-70.2481\"/>\r\n",
       "</g>\r\n",
       "<!-- St4 -->\r\n",
       "<g id=\"node2\" class=\"node\"><title>St4</title>\r\n",
       "<ellipse fill=\"none\" stroke=\"black\" cx=\"298.74\" cy=\"-29.748\" rx=\"22.9987\" ry=\"22.9987\"/>\r\n",
       "<text text-anchor=\"middle\" x=\"298.74\" y=\"-26.048\" font-family=\"Times New Roman,serif\" font-size=\"14.00\">St4</text>\r\n",
       "</g>\r\n",
       "<!-- St5 -->\r\n",
       "<g id=\"node5\" class=\"node\"><title>St5</title>\r\n",
       "<ellipse fill=\"none\" stroke=\"black\" cx=\"210.244\" cy=\"-22.748\" rx=\"22.9987\" ry=\"22.9987\"/>\r\n",
       "<text text-anchor=\"middle\" x=\"210.244\" y=\"-19.048\" font-family=\"Times New Roman,serif\" font-size=\"14.00\">St5</text>\r\n",
       "</g>\r\n",
       "<!-- St4&#45;&gt;St5 -->\r\n",
       "<g id=\"edge10\" class=\"edge\"><title>St4&#45;&gt;St5</title>\r\n",
       "<path fill=\"none\" stroke=\"black\" d=\"M277.463,-21.1221C271.322,-18.9174 264.482,-16.8576 257.992,-15.748 252.997,-14.894 247.692,-14.8593 242.517,-15.2983\"/>\r\n",
       "<polygon fill=\"black\" stroke=\"black\" points=\"241.629,-11.8889 232.217,-16.754 242.609,-18.82 241.629,-11.8889\"/>\r\n",
       "<text text-anchor=\"middle\" x=\"254.492\" y=\"-19.548\" font-family=\"Times New Roman,serif\" font-size=\"14.00\">&#39;&#39;</text>\r\n",
       "</g>\r\n",
       "<!-- St3 -->\r\n",
       "<g id=\"node3\" class=\"node\"><title>St3</title>\r\n",
       "<ellipse fill=\"none\" stroke=\"black\" cx=\"210.244\" cy=\"-102.748\" rx=\"22.9987\" ry=\"22.9987\"/>\r\n",
       "<text text-anchor=\"middle\" x=\"210.244\" y=\"-99.048\" font-family=\"Times New Roman,serif\" font-size=\"14.00\">St3</text>\r\n",
       "</g>\r\n",
       "<!-- St1 -->\r\n",
       "<g id=\"node6\" class=\"node\"><title>St1</title>\r\n",
       "<ellipse fill=\"none\" stroke=\"black\" cx=\"298.74\" cy=\"-154.748\" rx=\"22.9987\" ry=\"22.9987\"/>\r\n",
       "<text text-anchor=\"middle\" x=\"298.74\" y=\"-151.048\" font-family=\"Times New Roman,serif\" font-size=\"14.00\">St1</text>\r\n",
       "</g>\r\n",
       "<!-- St3&#45;&gt;St1 -->\r\n",
       "<g id=\"edge5\" class=\"edge\"><title>St3&#45;&gt;St1</title>\r\n",
       "<path fill=\"none\" stroke=\"black\" d=\"M230.012,-114.031C241.72,-121.069 256.995,-130.253 270.076,-138.117\"/>\r\n",
       "<polygon fill=\"black\" stroke=\"black\" points=\"268.336,-141.154 278.71,-143.307 271.942,-135.155 268.336,-141.154\"/>\r\n",
       "<text text-anchor=\"middle\" x=\"254.492\" y=\"-133.548\" font-family=\"Times New Roman,serif\" font-size=\"14.00\">&#39;&#39;</text>\r\n",
       "</g>\r\n",
       "<!-- St3&#45;&gt;St6 -->\r\n",
       "<g id=\"edge4\" class=\"edge\"><title>St3&#45;&gt;St6</title>\r\n",
       "<path fill=\"none\" stroke=\"black\" d=\"M189.72,-92.14C183.37,-88.9028 176.224,-85.4805 169.496,-82.748 164.361,-80.6622 158.845,-78.6753 153.409,-76.8554\"/>\r\n",
       "<polygon fill=\"black\" stroke=\"black\" points=\"154.401,-73.4981 143.81,-73.7747 152.262,-80.1633 154.401,-73.4981\"/>\r\n",
       "<text text-anchor=\"middle\" x=\"165.996\" y=\"-86.548\" font-family=\"Times New Roman,serif\" font-size=\"14.00\">&#39;&#39;</text>\r\n",
       "</g>\r\n",
       "<!-- St2 -->\r\n",
       "<g id=\"node4\" class=\"node\"><title>St2</title>\r\n",
       "<ellipse fill=\"none\" stroke=\"black\" cx=\"387.236\" cy=\"-120.748\" rx=\"22.9987\" ry=\"22.9987\"/>\r\n",
       "<text text-anchor=\"middle\" x=\"387.236\" y=\"-117.048\" font-family=\"Times New Roman,serif\" font-size=\"14.00\">St2</text>\r\n",
       "</g>\r\n",
       "<!-- St2&#45;&gt;St3 -->\r\n",
       "<g id=\"edge7\" class=\"edge\"><title>St2&#45;&gt;St3</title>\r\n",
       "<path fill=\"none\" stroke=\"black\" d=\"M364.787,-115.585C352.242,-112.78 336.055,-109.53 321.488,-107.748 295.339,-104.549 265.476,-103.344 243.432,-102.914\"/>\r\n",
       "<polygon fill=\"black\" stroke=\"black\" points=\"243.341,-99.4121 233.289,-102.76 243.235,-106.411 243.341,-99.4121\"/>\r\n",
       "<text text-anchor=\"middle\" x=\"298.74\" y=\"-111.548\" font-family=\"Times New Roman,serif\" font-size=\"14.00\">&#39;&#39;</text>\r\n",
       "</g>\r\n",
       "<!-- St5&#45;&gt;St4 -->\r\n",
       "<g id=\"edge9\" class=\"edge\"><title>St5&#45;&gt;St4</title>\r\n",
       "<path fill=\"none\" stroke=\"black\" d=\"M232.023,-30.2718C238.059,-32.1138 244.717,-33.8214 250.992,-34.748 255.882,-35.4701 261.075,-35.5707 266.153,-35.3034\"/>\r\n",
       "<polygon fill=\"black\" stroke=\"black\" points=\"266.669,-38.7699 276.284,-34.3195 265.992,-31.8027 266.669,-38.7699\"/>\r\n",
       "<text text-anchor=\"middle\" x=\"254.492\" y=\"-39.548\" font-family=\"Times New Roman,serif\" font-size=\"14.00\">&#39;&#39;</text>\r\n",
       "</g>\r\n",
       "<!-- St5&#45;&gt;St6 -->\r\n",
       "<g id=\"edge8\" class=\"edge\"><title>St5&#45;&gt;St6</title>\r\n",
       "<path fill=\"none\" stroke=\"black\" d=\"M187.6,-19.9174C179.449,-19.6873 170.275,-20.4674 162.496,-23.748 154.768,-27.0068 147.655,-32.3297 141.51,-38.1384\"/>\r\n",
       "<polygon fill=\"black\" stroke=\"black\" points=\"138.698,-36.012 134.27,-45.6371 143.734,-40.8742 138.698,-36.012\"/>\r\n",
       "<text text-anchor=\"middle\" x=\"165.996\" y=\"-27.548\" font-family=\"Times New Roman,serif\" font-size=\"14.00\">&#39;&#39;</text>\r\n",
       "</g>\r\n",
       "<!-- St1&#45;&gt;St2 -->\r\n",
       "<g id=\"edge6\" class=\"edge\"><title>St1&#45;&gt;St2</title>\r\n",
       "<path fill=\"none\" stroke=\"black\" d=\"M320.238,-146.69C331.01,-142.456 344.415,-137.187 356.323,-132.506\"/>\r\n",
       "<polygon fill=\"black\" stroke=\"black\" points=\"357.858,-135.663 365.885,-128.748 355.297,-129.149 357.858,-135.663\"/>\r\n",
       "<text text-anchor=\"middle\" x=\"342.988\" y=\"-142.548\" font-family=\"Times New Roman,serif\" font-size=\"14.00\">a</text>\r\n",
       "</g>\r\n",
       "<!-- St6&#45;&gt;St3 -->\r\n",
       "<g id=\"edge2\" class=\"edge\"><title>St6&#45;&gt;St3</title>\r\n",
       "<path fill=\"none\" stroke=\"black\" d=\"M137.07,-85.8329C144.33,-92.1202 153.17,-98.364 162.496,-101.748 167.117,-103.425 172.169,-104.364 177.188,-104.821\"/>\r\n",
       "<polygon fill=\"black\" stroke=\"black\" points=\"177.183,-108.323 187.296,-105.164 177.421,-101.327 177.183,-108.323\"/>\r\n",
       "<text text-anchor=\"middle\" x=\"165.996\" y=\"-108.548\" font-family=\"Times New Roman,serif\" font-size=\"14.00\">&#39;&#39;</text>\r\n",
       "</g>\r\n",
       "<!-- St6&#45;&gt;St5 -->\r\n",
       "<g id=\"edge3\" class=\"edge\"><title>St6&#45;&gt;St5</title>\r\n",
       "<path fill=\"none\" stroke=\"black\" d=\"M142.053,-55.4169C153.738,-49.7355 167.999,-42.8017 180.372,-36.7859\"/>\r\n",
       "<polygon fill=\"black\" stroke=\"black\" points=\"181.928,-39.9209 189.391,-32.4006 178.867,-33.6256 181.928,-39.9209\"/>\r\n",
       "<text text-anchor=\"middle\" x=\"165.996\" y=\"-48.548\" font-family=\"Times New Roman,serif\" font-size=\"14.00\">&#39;&#39;</text>\r\n",
       "</g>\r\n",
       "</g>\r\n",
       "</svg>\r\n"
      ],
      "text/plain": [
       "<graphviz.dot.Digraph at 0x21e4a613fd0>"
      ]
     },
     "execution_count": 9,
     "metadata": {},
     "output_type": "execute_result"
    }
   ],
   "source": [
    "dotObj_nfa(re2nfa(\"(a*+''*)*\"))"
   ]
  },
  {
   "cell_type": "markdown",
   "metadata": {},
   "source": [
    "* Going bottom up the rules applied are S->C->O->O\\*->(E)\\*->(E+C)\\*->(O+C)\\*->(E+O\\*)\\*->(C+''\\*)\\*->(O+''\\*)\\*->(O\\*+''\\*)\\*->(a\\*+''\\*)\\*"
   ]
  },
  {
   "cell_type": "markdown",
   "metadata": {},
   "source": [
    "Assignment 3 Pard d"
   ]
  },
  {
   "cell_type": "code",
   "execution_count": 10,
   "metadata": {},
   "outputs": [
    {
     "name": "stdout",
     "output_type": "stream",
     "text": [
      " Custom-made lexer for markdown starting to strip comments starting with !!\n",
      " Got a new line \n",
      "Got a Jove markdown comment\n",
      " Got a new line \n",
      "Got a Jove markdown comment\n",
      " Got a new line \n",
      "Got one label which is an ID:  0\n",
      "Got one label which is an ID:  1\n",
      " Got a new line \n",
      "Parsed one line of Jove MD code, involving tokens COLON and ARROWS and other things in an MD line\n",
      "Got one label which is an ID:  0\n",
      "Got one label which is an ID:  1\n",
      " Got a new line \n",
      "Parsed one line of Jove MD code, involving tokens COLON and ARROWS and other things in an MD line\n",
      "Parsed DFA keyword\n",
      "Machine type is DFA\n"
     ]
    },
    {
     "data": {
      "text/plain": [
       "{'Delta': {('IF', '0'): 'S',\n",
       "  ('IF', '1'): 'S',\n",
       "  ('S', '0'): 'IF',\n",
       "  ('S', '1'): 'IF'},\n",
       " 'F': {'IF'},\n",
       " 'Q': {'IF', 'S'},\n",
       " 'Sigma': {'0', '1'},\n",
       " 'q0': 'IF'}"
      ]
     },
     "execution_count": 10,
     "metadata": {},
     "output_type": "execute_result"
    }
   ],
   "source": [
    "md2mc('''\n",
    "DFA !! IMPORTANT: this is required to tell the markdown converter \n",
    "    !! the expected machine type\n",
    "\n",
    "IF: 0|1 -> S\n",
    "S : 0|1 -> IF\n",
    "''')"
   ]
  },
  {
   "cell_type": "code",
   "execution_count": 11,
   "metadata": {},
   "outputs": [
    {
     "name": "stdout",
     "output_type": "stream",
     "text": [
      " Custom-made lexer for markdown starting to strip comments starting with !!\n",
      " Got a new line \n",
      "Got a Jove markdown comment\n",
      " Got a new line \n",
      "Got a Jove markdown comment\n",
      " Got a new line \n",
      "Got one label which is an ID:  (\n",
      "Got one label which is an ID:  #\n",
      "Got one label which is an ID:  (#\n",
      " Got a new line \n",
      "Parsed one line of Jove MD code, involving tokens COLON and ARROWS and other things in an MD line\n",
      "Got one label which is an ID:  (\n",
      "Got one label which is an ID:  (\n",
      "Got one label which is an ID:  ((\n",
      " Got a new line \n",
      "Parsed one line of Jove MD code, involving tokens COLON and ARROWS and other things in an MD line\n",
      "Got one label which is an ID:  )\n",
      "Got one label which is an ID:  (\n",
      "Got one label which is an ID:  \n",
      " Got a new line \n",
      "Parsed one line of Jove MD code, involving tokens COLON and ARROWS and other things in an MD line\n",
      "Got one label which is an ID:  \n",
      "Got one label which is an ID:  #\n",
      "Got one label which is an ID:  #\n",
      " Got a new line \n",
      "Parsed one line of Jove MD code, involving tokens COLON and ARROWS and other things in an MD line\n",
      "Parsed PDA keyword\n",
      "Machine type is PDA\n"
     ]
    },
    {
     "data": {
      "text/plain": [
       "{'Delta': {('A', '', '#'): {('IF', '#')},\n",
       "  ('A', '(', '('): {('A', '((')},\n",
       "  ('A', ')', '('): {('A', '')},\n",
       "  ('IF', '(', '#'): {('A', '(#')}},\n",
       " 'F': {'IF'},\n",
       " 'Gamma': {'#', '(', ')'},\n",
       " 'Q': {'A', 'IF'},\n",
       " 'Sigma': {'(', ')'},\n",
       " 'q0': 'IF',\n",
       " 'z0': '#'}"
      ]
     },
     "execution_count": 11,
     "metadata": {},
     "output_type": "execute_result"
    }
   ],
   "source": [
    "md2mc('''\n",
    "PDA !! IMPORTANT: this is required to tell the markdown converter \n",
    "    !! the expected machine type\n",
    "\n",
    "IF : (, #; (# -> A\n",
    "A  : (, (; (( -> A\n",
    "A  : ), (; '' -> A\n",
    "A  : '',#; #  -> IF\n",
    "''')"
   ]
  },
  {
   "cell_type": "markdown",
   "metadata": {},
   "source": [
    "* \"DFA\" keyword is parsed with the help of the lexer which returns a tuple containing the machine type among other things, which is eventually checked inside the md2mc() method whether it is \"DFA\"\n",
    "* It is parsed by looking for tokens COLON and ARROWS and some other things like states being used and ids. \n",
    "* Comments starting with !! are basically ignored and stripped aways by the lexer\n",
    "* Parsing 'PDA' goes over the same process used for \"DFA\". They branch out in md2mc(), after the lexer returns and we check that the machine type is 'PDA'\n",
    "* Lines are parsed using p_pda_md() and the result returned by the lexer "
   ]
  }
 ],
 "metadata": {
  "kernelspec": {
   "display_name": "Python 3",
   "language": "python",
   "name": "python3"
  },
  "language_info": {
   "codemirror_mode": {
    "name": "ipython",
    "version": 3
   },
   "file_extension": ".py",
   "mimetype": "text/x-python",
   "name": "python",
   "nbconvert_exporter": "python",
   "pygments_lexer": "ipython3",
   "version": "3.6.1"
  },
  "toc": {
   "colors": {
    "hover_highlight": "#DAA520",
    "running_highlight": "#FF0000",
    "selected_highlight": "#FFD700"
   },
   "moveMenuLeft": true,
   "nav_menu": {
    "height": "318px",
    "width": "252px"
   },
   "navigate_menu": true,
   "number_sections": true,
   "sideBar": true,
   "threshold": 4,
   "toc_cell": false,
   "toc_section_display": "block",
   "toc_window_display": false,
   "widenNotebook": false
  }
 },
 "nbformat": 4,
 "nbformat_minor": 1
}
